{
 "cells": [
  {
   "cell_type": "code",
   "execution_count": 1,
   "metadata": {
    "collapsed": false
   },
   "outputs": [
    {
     "name": "stderr",
     "output_type": "stream",
     "text": [
      "Using TensorFlow backend.\n"
     ]
    }
   ],
   "source": [
    "from keras.models import Sequential\n",
    "\n",
    "model = Sequential()"
   ]
  },
  {
   "cell_type": "code",
   "execution_count": 2,
   "metadata": {
    "collapsed": true
   },
   "outputs": [],
   "source": [
    "from six.moves import cPickle as pickle\n",
    "from six.moves import range"
   ]
  },
  {
   "cell_type": "code",
   "execution_count": 3,
   "metadata": {
    "collapsed": false
   },
   "outputs": [
    {
     "name": "stdout",
     "output_type": "stream",
     "text": [
      "('Training set', (200000, 28, 28), (200000,))\n",
      "('Validation set', (10000, 28, 28), (10000,))\n",
      "('Test set', (10000, 28, 28), (10000,))\n"
     ]
    }
   ],
   "source": [
    "pickle_file = '/home/guzik/programms/DeepDream/notMNIST.pickle'\n",
    "\n",
    "with open(pickle_file, 'rb') as f:\n",
    "  save = pickle.load(f);\n",
    "  pre_train_dataset = save['train_dataset'];\n",
    "  pre_train_labels = save['train_labels'];\n",
    "  pre_valid_dataset = save['valid_dataset'];\n",
    "  pre_valid_labels = save['valid_labels'];\n",
    "  pre_test_dataset = save['test_dataset'];\n",
    "  pre_test_labels = save['test_labels'];\n",
    "  del save;  # hint to help gc free up memory\n",
    "  print('Training set', pre_train_dataset.shape, pre_train_labels.shape);\n",
    "  print('Validation set', pre_valid_dataset.shape, pre_valid_labels.shape);\n",
    "  print('Test set', pre_test_dataset.shape, pre_test_labels.shape);"
   ]
  },
  {
   "cell_type": "code",
   "execution_count": 4,
   "metadata": {
    "collapsed": false
   },
   "outputs": [
    {
     "name": "stdout",
     "output_type": "stream",
     "text": [
      "('Training set', (200000, 28, 28, 1), (200000, 10))\n",
      "('Validation set', (10000, 28, 28, 1), (10000, 10))\n",
      "('Test set', (10000, 28, 28, 1), (10000, 10))\n"
     ]
    }
   ],
   "source": [
    "image_size = 28\n",
    "num_labels = 10\n",
    "num_channels = 1 # grayscale\n",
    "\n",
    "import numpy as np\n",
    "\n",
    "def reformat(dataset, labels):\n",
    "  dataset = dataset.reshape(\n",
    "    (-1, image_size, image_size, num_channels)).astype(np.float32)\n",
    "  labels = (np.arange(num_labels) == labels[:,None]).astype(np.float32)\n",
    "  return dataset, labels\n",
    "train_dataset, train_labels = reformat(pre_train_dataset, pre_train_labels);\n",
    "valid_dataset, valid_labels = reformat(pre_valid_dataset, pre_valid_labels);\n",
    "test_dataset, test_labels = reformat(pre_test_dataset, pre_test_labels);\n",
    "print('Training set', train_dataset.shape, train_labels.shape);\n",
    "print('Validation set', valid_dataset.shape, valid_labels.shape);\n",
    "print('Test set', test_dataset.shape, test_labels.shape);"
   ]
  },
  {
   "cell_type": "code",
   "execution_count": 5,
   "metadata": {
    "collapsed": false
   },
   "outputs": [],
   "source": [
    "from keras.layers import Dense, Activation, Convolution2D, Flatten\n",
    "\n",
    "model.add(Convolution2D(32, 5, 5, border_mode='valid', input_shape=(28, 28, 1)))\n",
    "model.add(Activation(\"relu\"))\n",
    "model.add(Convolution2D(32, 5, 5))\n",
    "model.add(Activation(\"relu\"))\n",
    "model.add(Flatten())\n",
    "model.add(Dense(10))\n",
    "model.add(Activation(\"softmax\"))"
   ]
  },
  {
   "cell_type": "code",
   "execution_count": 6,
   "metadata": {
    "collapsed": true
   },
   "outputs": [],
   "source": [
    "model.compile(loss='categorical_crossentropy', optimizer='sgd', metrics=['accuracy']);"
   ]
  },
  {
   "cell_type": "code",
   "execution_count": 7,
   "metadata": {
    "collapsed": false
   },
   "outputs": [
    {
     "name": "stdout",
     "output_type": "stream",
     "text": [
      "Epoch 1/5\n",
      "200000/200000 [==============================] - 894s - loss: 0.5048 - acc: 0.8586   \n",
      "Epoch 2/5\n",
      "200000/200000 [==============================] - 907s - loss: 0.3832 - acc: 0.8927   \n",
      "Epoch 3/5\n",
      "200000/200000 [==============================] - 927s - loss: 0.3532 - acc: 0.9006   \n",
      "Epoch 4/5\n",
      "200000/200000 [==============================] - 921s - loss: 0.3328 - acc: 0.9063   \n",
      "Epoch 5/5\n",
      "200000/200000 [==============================] - 935s - loss: 0.3167 - acc: 0.9108   \n",
      "10000/10000 [==============================] - 18s    \n",
      "Done\n"
     ]
    }
   ],
   "source": [
    "model.fit(train_dataset, train_labels, nb_epoch=5, batch_size=16);\n",
    "loss_and_metrics = model.evaluate(test_dataset, test_labels, batch_size=16);\n",
    "print('Done');"
   ]
  },
  {
   "cell_type": "code",
   "execution_count": 15,
   "metadata": {
    "collapsed": false
   },
   "outputs": [
    {
     "name": "stdout",
     "output_type": "stream",
     "text": [
      "Test_score: 0.160533316413\n",
      "Test_accuracy: 95.62%\n"
     ]
    }
   ],
   "source": [
    "print(\"Test_score: {}\".format(loss_and_metrics[0]))\n",
    "print(\"Test_accuracy: {}%\".format(loss_and_metrics[1]*100))"
   ]
  },
  {
   "cell_type": "code",
   "execution_count": null,
   "metadata": {
    "collapsed": true
   },
   "outputs": [],
   "source": []
  }
 ],
 "metadata": {
  "anaconda-cloud": {},
  "kernelspec": {
   "display_name": "Python [conda env:keras]",
   "language": "python",
   "name": "conda-env-keras-py"
  },
  "language_info": {
   "codemirror_mode": {
    "name": "ipython",
    "version": 2
   },
   "file_extension": ".py",
   "mimetype": "text/x-python",
   "name": "python",
   "nbconvert_exporter": "python",
   "pygments_lexer": "ipython2",
   "version": "2.7.11"
  }
 },
 "nbformat": 4,
 "nbformat_minor": 1
}
